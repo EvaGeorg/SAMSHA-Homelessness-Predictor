{
 "cells": [
  {
   "cell_type": "code",
   "execution_count": 6,
   "metadata": {},
   "outputs": [],
   "source": [
    "import pandas as pd\n",
    "import numpy as np\n",
    "import plotly.graph_objects as go\n",
    "import plotly\n",
    "\n",
    "import warnings\n",
    "warnings.filterwarnings(\"ignore\")"
   ]
  },
  {
   "cell_type": "code",
   "execution_count": 7,
   "metadata": {},
   "outputs": [],
   "source": [
    "DATA_2017_path='TEDS_DATASETS/tedsd_data_2017.csv'\n",
    "DATA_2017_edited_path='TEDS_DATASETS/tedsd_data_2017_edited.csv'"
   ]
  },
  {
   "cell_type": "code",
   "execution_count": 8,
   "metadata": {},
   "outputs": [],
   "source": [
    "def read_dataset(path):\n",
    "    #read file\n",
    "    sep=''\n",
    "    if str(path).endswith('.tsv'):\n",
    "        sep = '\\t'\n",
    "    if str(path).endswith('.csv'):\n",
    "        sep=','\n",
    "    try:\n",
    "        data = pd.read_csv(path, sep=sep)\n",
    "    except:\n",
    "        print(\"Can't read file\")\n",
    "        return\n",
    "    \n",
    "    return data\n",
    "\n",
    "def get_without_prior_treatments(data):\n",
    "    modified = data.copy()\n",
    "    modified = modified[modified['NOPRIOR'] == 0]\n",
    "    modified.drop(\"NOPRIOR\", axis=1, inplace=True)\n",
    "    \n",
    "    return modified\n",
    "\n",
    "def map_reason_to_2_categories(dataframe):\n",
    "    modified = dataframe.copy()\n",
    "    reason_dict = {1:'Successful', 2:'Non-successful',\n",
    "              3:'Non-successful', 4:'Non-successful', \n",
    "               5:'Non-successful', 6:'Non-successful', 7:'Non-successful'}\n",
    "    \n",
    "    modified['REASON'] = modified['REASON'].replace(reason_dict)\n",
    "    \n",
    "    return modified\n",
    "\n",
    "def convert_to_nan(dataset):\n",
    "    dataset = dataset.replace({-9: np.nan})\n",
    "    \n",
    "    return dataset\n",
    "\n",
    "def read_and_clean_dataset(path):\n",
    "    dataset = read_dataset(path)\n",
    "    #dataset_removed_columns = remove_columns(dataset)\n",
    "    dataset_no_prior_treatments = get_without_prior_treatments(dataset)\n",
    "    dataset_modified = convert_to_nan(dataset_no_prior_treatments)\n",
    "    \n",
    "    return dataset_modified\n",
    "\n",
    "\n",
    "def save_edited_dataframe(dataset, path):\n",
    "    try:\n",
    "        dataset.to_csv(path, index=False)\n",
    "    except:\n",
    "        print(\"Cant save file\")\n",
    "        \n",
    "    return"
   ]
  },
  {
   "cell_type": "code",
   "execution_count": 9,
   "metadata": {},
   "outputs": [],
   "source": [
    "data_2017 = read_and_clean_dataset(DATA_2017_path)"
   ]
  },
  {
   "cell_type": "code",
   "execution_count": 10,
   "metadata": {},
   "outputs": [],
   "source": [
    "save_edited_dataframe(data_2017, DATA_2017_edited_path)"
   ]
  },
  {
   "cell_type": "code",
   "execution_count": null,
   "metadata": {},
   "outputs": [],
   "source": []
  }
 ],
 "metadata": {
  "kernelspec": {
   "display_name": "Python 3",
   "language": "python",
   "name": "python3"
  },
  "language_info": {
   "codemirror_mode": {
    "name": "ipython",
    "version": 3
   },
   "file_extension": ".py",
   "mimetype": "text/x-python",
   "name": "python",
   "nbconvert_exporter": "python",
   "pygments_lexer": "ipython3",
   "version": "3.7.3"
  }
 },
 "nbformat": 4,
 "nbformat_minor": 2
}
